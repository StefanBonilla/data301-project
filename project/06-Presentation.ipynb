{
 "cells": [
  {
   "cell_type": "markdown",
   "metadata": {},
   "source": [
    "# Presentation"
   ]
  },
  {
   "cell_type": "markdown",
   "metadata": {},
   "source": [
    "## Overview"
   ]
  },
  {
   "cell_type": "markdown",
   "metadata": {},
   "source": [
    "For this project, I analyzed a restaurant and consumer dataset via statistical modeling and machine learning to determine if the data from a consumer profile is sufficient enough to determine the consumer's rating of a specific restaurant. If a restaurant is able to know how much a consumer will like their restaurant before they even enter it, they will then know what they need to improve on to better their customer satisfaction. The end product of this project is a customer satisfaction prediction tool."
   ]
  },
  {
   "cell_type": "markdown",
   "metadata": {},
   "source": [
    "## Imports"
   ]
  },
  {
   "cell_type": "code",
   "execution_count": 1,
   "metadata": {
    "collapsed": true
   },
   "outputs": [],
   "source": [
    "import numpy as np\n",
    "import pandas as pd\n",
    "%matplotlib inline\n",
    "import matplotlib.pyplot as plt\n",
    "from ipywidgets import interact, fixed\n",
    "import seaborn as sns\n",
    "import sklearn as sk\n",
    "import sklearn.naive_bayes as nb\n",
    "from sklearn.cross_validation import train_test_split\n",
    "from sklearn.metrics import confusion_matrix\n",
    "from sklearn.linear_model import LogisticRegression"
   ]
  },
  {
   "cell_type": "markdown",
   "metadata": {},
   "source": [
    "## The Dataset"
   ]
  },
  {
   "cell_type": "markdown",
   "metadata": {},
   "source": [
    "There are multiple tables of data we will be using to build our customer satisfaction prediction tool\n",
    "- The user_profile table includes attributes of individual consumers\n",
    "- The user_cuisine table shows types of cuisines that are preferred by individual users\n",
    "- The restaurant_profile table includes attributes of individual restaurants\n",
    "- The restaurant_cuisine table shows types of cuisines individual restaurants are associated with\n",
    "- The ratings table shows user ratings of restaurants"
   ]
  },
  {
   "cell_type": "code",
   "execution_count": 2,
   "metadata": {
    "collapsed": false
   },
   "outputs": [],
   "source": [
    "user_profile = pd.read_csv('/data/StefanBonilla/userprofile.csv', encoding='unicode_escape')\n",
    "user_cuisine = pd.read_csv('/data/StefanBonilla/usercuisine.csv', encoding='unicode_escape')\n",
    "restaurant_profile = pd.read_csv('/data/StefanBonilla/geoplaces2.csv', encoding='unicode_escape')\n",
    "restaurant_cuisine = pd.read_csv('/data/StefanBonilla/chefmozcuisine.csv', encoding='unicode_escape')\n",
    "ratings = pd.read_csv('/data/StefanBonilla/rating_final.csv', encoding='unicode_escape')"
   ]
  },
  {
   "cell_type": "code",
   "execution_count": 3,
   "metadata": {
    "collapsed": false
   },
   "outputs": [
    {
     "data": {
      "text/plain": [
       "Index(['userID', 'latitude', 'longitude', 'smoker', 'drink_level',\n",
       "       'dress_preference', 'ambience', 'transport', 'marital_status', 'hijos',\n",
       "       'birth_year', 'interest', 'personality', 'religion', 'activity',\n",
       "       'color', 'weight', 'budget', 'height'],\n",
       "      dtype='object')"
      ]
     },
     "execution_count": 3,
     "metadata": {},
     "output_type": "execute_result"
    }
   ],
   "source": [
    "user_profile.columns"
   ]
  },
  {
   "cell_type": "code",
   "execution_count": 4,
   "metadata": {
    "collapsed": false
   },
   "outputs": [
    {
     "data": {
      "text/plain": [
       "Index(['placeID', 'latitude', 'longitude', 'the_geom_meter', 'name', 'address',\n",
       "       'city', 'state', 'country', 'fax', 'zip', 'alcohol', 'smoking_area',\n",
       "       'dress_code', 'accessibility', 'price', 'url', 'Rambience', 'franchise',\n",
       "       'area', 'other_services'],\n",
       "      dtype='object')"
      ]
     },
     "execution_count": 4,
     "metadata": {},
     "output_type": "execute_result"
    }
   ],
   "source": [
    "restaurant_profile.columns"
   ]
  },
  {
   "cell_type": "markdown",
   "metadata": {},
   "source": [
    "The target attribute for this project is the `rating` attribute of the `ratings` table. This represents a consumer's overall rating of a restaurant"
   ]
  },
  {
   "cell_type": "code",
   "execution_count": 13,
   "metadata": {
    "collapsed": false
   },
   "outputs": [
    {
     "data": {
      "text/plain": [
       "Index(['userID', 'placeID', 'rating', 'food_rating', 'service_rating'], dtype='object')"
      ]
     },
     "execution_count": 13,
     "metadata": {},
     "output_type": "execute_result"
    }
   ],
   "source": [
    "ratings.columns"
   ]
  },
  {
   "cell_type": "markdown",
   "metadata": {},
   "source": [
    "## Exploratory Analysis and Cleaning"
   ]
  },
  {
   "cell_type": "code",
   "execution_count": 6,
   "metadata": {
    "collapsed": false
   },
   "outputs": [
    {
     "data": {
      "text/plain": [
       "['userID',\n",
       " 'latitude_x',\n",
       " 'longitude_x',\n",
       " 'smoker',\n",
       " 'drink_level',\n",
       " 'dress_preference',\n",
       " 'ambience',\n",
       " 'marital_status',\n",
       " 'hijos',\n",
       " 'birth_year',\n",
       " 'interest',\n",
       " 'personality',\n",
       " 'religion',\n",
       " 'activity',\n",
       " 'color',\n",
       " 'weight',\n",
       " 'budget',\n",
       " 'height',\n",
       " 'u_Afghan',\n",
       " 'u_African',\n",
       " 'u_American',\n",
       " 'u_Armenian',\n",
       " 'u_Asian',\n",
       " 'u_Australian',\n",
       " 'u_Austrian',\n",
       " 'u_Bagels',\n",
       " 'u_Bakery',\n",
       " 'u_Bar',\n",
       " 'u_Bar_Pub_Brewery',\n",
       " 'u_Barbecue',\n",
       " 'u_Basque',\n",
       " 'u_Brazilian',\n",
       " 'u_Breakfast-Brunch',\n",
       " 'u_British',\n",
       " 'u_Burgers',\n",
       " 'u_Burmese',\n",
       " 'u_Cafe-Coffee_Shop',\n",
       " 'u_Cafeteria',\n",
       " 'u_Cajun-Creole',\n",
       " 'u_California',\n",
       " 'u_Cambodian',\n",
       " 'u_Canadian',\n",
       " 'u_Caribbean',\n",
       " 'u_Chilean',\n",
       " 'u_Chinese',\n",
       " 'u_Contemporary',\n",
       " 'u_Continental-European',\n",
       " 'u_Cuban',\n",
       " 'u_Deli-Sandwiches',\n",
       " 'u_Dessert-Ice_Cream',\n",
       " 'u_Dim_Sum',\n",
       " 'u_Diner',\n",
       " 'u_Doughnuts',\n",
       " 'u_Dutch-Belgian',\n",
       " 'u_Eastern_European',\n",
       " 'u_Eclectic',\n",
       " 'u_Ethiopian',\n",
       " 'u_Family',\n",
       " 'u_Fast_Food',\n",
       " 'u_Filipino',\n",
       " 'u_Fine_Dining',\n",
       " 'u_French',\n",
       " 'u_Fusion',\n",
       " 'u_Game',\n",
       " 'u_German',\n",
       " 'u_Greek',\n",
       " 'u_Hawaiian',\n",
       " 'u_Hot_Dogs',\n",
       " 'u_Hungarian',\n",
       " 'u_Indian-Pakistani',\n",
       " 'u_Indigenous',\n",
       " 'u_Indonesian',\n",
       " 'u_International',\n",
       " 'u_Irish',\n",
       " 'u_Israeli',\n",
       " 'u_Italian',\n",
       " 'u_Jamaican',\n",
       " 'u_Japanese',\n",
       " 'u_Juice',\n",
       " 'u_Korean',\n",
       " 'u_Kosher',\n",
       " 'u_Latin_American',\n",
       " 'u_Lebanese',\n",
       " 'u_Malaysian',\n",
       " 'u_Mediterranean',\n",
       " 'u_Mexican',\n",
       " 'u_Middle_Eastern',\n",
       " 'u_Mongolian',\n",
       " 'u_Moroccan',\n",
       " 'u_North_African',\n",
       " 'u_Organic-Healthy',\n",
       " 'u_Pacific_Northwest',\n",
       " 'u_Pacific_Rim',\n",
       " 'u_Persian',\n",
       " 'u_Peruvian',\n",
       " 'u_Pizzeria',\n",
       " 'u_Polish',\n",
       " 'u_Polynesian',\n",
       " 'u_Portuguese',\n",
       " 'u_Regional',\n",
       " 'u_Romanian',\n",
       " 'u_Russian-Ukrainian',\n",
       " 'u_Scandinavian',\n",
       " 'u_Seafood',\n",
       " 'u_Soup',\n",
       " 'u_Southeast_Asian',\n",
       " 'u_Southern',\n",
       " 'u_Southwestern',\n",
       " 'u_Spanish',\n",
       " 'u_Steaks',\n",
       " 'u_Sushi',\n",
       " 'u_Swiss',\n",
       " 'u_Tapas',\n",
       " 'u_Tea_House',\n",
       " 'u_Tex-Mex',\n",
       " 'u_Thai',\n",
       " 'u_Tibetan',\n",
       " 'u_Tunisian',\n",
       " 'u_Turkish',\n",
       " 'u_Vegetarian',\n",
       " 'u_Vietnamese',\n",
       " 'placeID',\n",
       " 'rating',\n",
       " 'latitude_y',\n",
       " 'longitude_y',\n",
       " 'name',\n",
       " 'alcohol',\n",
       " 'smoking_area',\n",
       " 'dress_code',\n",
       " 'accessibility',\n",
       " 'price',\n",
       " 'Rambience',\n",
       " 'franchise',\n",
       " 'area',\n",
       " 'other_services',\n",
       " 'r_American',\n",
       " 'r_Armenian',\n",
       " 'r_Bakery',\n",
       " 'r_Bar',\n",
       " 'r_Bar_Pub_Brewery',\n",
       " 'r_Breakfast-Brunch',\n",
       " 'r_Burgers',\n",
       " 'r_Cafe-Coffee_Shop',\n",
       " 'r_Cafeteria',\n",
       " 'r_Chinese',\n",
       " 'r_Contemporary',\n",
       " 'r_Family',\n",
       " 'r_Fast_Food',\n",
       " 'r_Game',\n",
       " 'r_International',\n",
       " 'r_Italian',\n",
       " 'r_Japanese',\n",
       " 'r_Mediterranean',\n",
       " 'r_Mexican',\n",
       " 'r_Pizzeria',\n",
       " 'r_Regional',\n",
       " 'r_Seafood',\n",
       " 'r_Vietnamese']"
      ]
     },
     "execution_count": 6,
     "metadata": {},
     "output_type": "execute_result"
    }
   ],
   "source": [
    "mergedTable = pd.read_pickle('user_restaurant_ratings_exploration')\n",
    "list(mergedTable.columns)"
   ]
  },
  {
   "cell_type": "markdown",
   "metadata": {},
   "source": [
    "Realized there are too many columns in the merged dataset, needed to cut it down to make more accurate predictions\n",
    "- Dropped all location related data. Determined that a customer can either be satisfied or unsatisfied by any restaurant in the world\n",
    "- Dropped all cuisine related data. Realized that just because a consumer's favorite cuisine is served by a restaurant doesn't necessarily mean that the consumer will give the restaurant a high or low rating.\n",
    "- Also dropped other unnecessary attributes such as `favorite color`, `religion`, and `marital_status` since they didn't seem to correlate with overall restaurant ratings"
   ]
  },
  {
   "cell_type": "markdown",
   "metadata": {},
   "source": [
    "The attributes that had the highest correlations to rating via `RandomForestClassifier` feature importances were:\n",
    "\n",
    "Consumers:\n",
    "- height\n",
    "- weight\n",
    "- birth_year\n",
    "- drink_level [abstemious,social drinker,casual drinker]\n",
    "- smoker [True, False]\n",
    "- dress_preference [informal,formal,no preference,elegant]\n",
    "- ambience [family,friends,solitary]\n",
    "- interest [variety,technology,none,retro,eco-friendly]\n",
    "- personality [thrifty-protector,hunter-ostentatious,hard-worker,conformist]\n",
    "- activity [student,professional,unemployed,working-class]\n",
    "- budget [medium,low,high]\n",
    "\n",
    "Restaurants:\n",
    "- alcohol [No_Alcohol_Served,Wine_Beer,Full_Bar]\n",
    "- smoking_area [none,only_at_bar,permitted,section,not_permitted]\n",
    "- dress_code [informal,casual,formal]\n",
    "- price [medium,low,high]\n",
    "- ambience [familiar,quiet]\n",
    "- area [open,closed]\n",
    "- franchise [True, False]"
   ]
  },
  {
   "cell_type": "code",
   "execution_count": 7,
   "metadata": {
    "collapsed": false
   },
   "outputs": [
    {
     "data": {
      "text/html": [
       "<div>\n",
       "<table border=\"1\" class=\"dataframe\">\n",
       "  <thead>\n",
       "    <tr style=\"text-align: right;\">\n",
       "      <th></th>\n",
       "      <th>smoker</th>\n",
       "      <th>birth_year</th>\n",
       "      <th>weight</th>\n",
       "      <th>height</th>\n",
       "      <th>rating</th>\n",
       "      <th>franchise</th>\n",
       "      <th>abstemious</th>\n",
       "      <th>casual drinker</th>\n",
       "      <th>social drinker</th>\n",
       "      <th>elegant</th>\n",
       "      <th>...</th>\n",
       "      <th>casual</th>\n",
       "      <th>formal</th>\n",
       "      <th>informal</th>\n",
       "      <th>high</th>\n",
       "      <th>low</th>\n",
       "      <th>medium</th>\n",
       "      <th>familiar</th>\n",
       "      <th>quiet</th>\n",
       "      <th>closed</th>\n",
       "      <th>open</th>\n",
       "    </tr>\n",
       "  </thead>\n",
       "  <tbody>\n",
       "    <tr>\n",
       "      <th>0</th>\n",
       "      <td>False</td>\n",
       "      <td>1989</td>\n",
       "      <td>69</td>\n",
       "      <td>1.77</td>\n",
       "      <td>2</td>\n",
       "      <td>False</td>\n",
       "      <td>1</td>\n",
       "      <td>0</td>\n",
       "      <td>0</td>\n",
       "      <td>0</td>\n",
       "      <td>...</td>\n",
       "      <td>0</td>\n",
       "      <td>0</td>\n",
       "      <td>1</td>\n",
       "      <td>0</td>\n",
       "      <td>1</td>\n",
       "      <td>0</td>\n",
       "      <td>1</td>\n",
       "      <td>0</td>\n",
       "      <td>0</td>\n",
       "      <td>1</td>\n",
       "    </tr>\n",
       "    <tr>\n",
       "      <th>1</th>\n",
       "      <td>False</td>\n",
       "      <td>1990</td>\n",
       "      <td>40</td>\n",
       "      <td>1.87</td>\n",
       "      <td>2</td>\n",
       "      <td>False</td>\n",
       "      <td>1</td>\n",
       "      <td>0</td>\n",
       "      <td>0</td>\n",
       "      <td>0</td>\n",
       "      <td>...</td>\n",
       "      <td>0</td>\n",
       "      <td>0</td>\n",
       "      <td>1</td>\n",
       "      <td>0</td>\n",
       "      <td>1</td>\n",
       "      <td>0</td>\n",
       "      <td>1</td>\n",
       "      <td>0</td>\n",
       "      <td>0</td>\n",
       "      <td>1</td>\n",
       "    </tr>\n",
       "    <tr>\n",
       "      <th>2</th>\n",
       "      <td>False</td>\n",
       "      <td>1989</td>\n",
       "      <td>60</td>\n",
       "      <td>1.69</td>\n",
       "      <td>2</td>\n",
       "      <td>False</td>\n",
       "      <td>0</td>\n",
       "      <td>0</td>\n",
       "      <td>1</td>\n",
       "      <td>0</td>\n",
       "      <td>...</td>\n",
       "      <td>0</td>\n",
       "      <td>0</td>\n",
       "      <td>1</td>\n",
       "      <td>0</td>\n",
       "      <td>1</td>\n",
       "      <td>0</td>\n",
       "      <td>1</td>\n",
       "      <td>0</td>\n",
       "      <td>0</td>\n",
       "      <td>1</td>\n",
       "    </tr>\n",
       "    <tr>\n",
       "      <th>3</th>\n",
       "      <td>True</td>\n",
       "      <td>1989</td>\n",
       "      <td>75</td>\n",
       "      <td>1.80</td>\n",
       "      <td>1</td>\n",
       "      <td>False</td>\n",
       "      <td>0</td>\n",
       "      <td>0</td>\n",
       "      <td>1</td>\n",
       "      <td>0</td>\n",
       "      <td>...</td>\n",
       "      <td>0</td>\n",
       "      <td>0</td>\n",
       "      <td>1</td>\n",
       "      <td>0</td>\n",
       "      <td>1</td>\n",
       "      <td>0</td>\n",
       "      <td>1</td>\n",
       "      <td>0</td>\n",
       "      <td>0</td>\n",
       "      <td>1</td>\n",
       "    </tr>\n",
       "    <tr>\n",
       "      <th>4</th>\n",
       "      <td>False</td>\n",
       "      <td>1991</td>\n",
       "      <td>75</td>\n",
       "      <td>1.78</td>\n",
       "      <td>1</td>\n",
       "      <td>False</td>\n",
       "      <td>1</td>\n",
       "      <td>0</td>\n",
       "      <td>0</td>\n",
       "      <td>0</td>\n",
       "      <td>...</td>\n",
       "      <td>0</td>\n",
       "      <td>0</td>\n",
       "      <td>1</td>\n",
       "      <td>0</td>\n",
       "      <td>1</td>\n",
       "      <td>0</td>\n",
       "      <td>1</td>\n",
       "      <td>0</td>\n",
       "      <td>0</td>\n",
       "      <td>1</td>\n",
       "    </tr>\n",
       "  </tbody>\n",
       "</table>\n",
       "<p>5 rows × 50 columns</p>\n",
       "</div>"
      ],
      "text/plain": [
       "  smoker  birth_year  weight  height  rating franchise  abstemious  \\\n",
       "0  False        1989      69    1.77       2     False           1   \n",
       "1  False        1990      40    1.87       2     False           1   \n",
       "2  False        1989      60    1.69       2     False           0   \n",
       "3   True        1989      75    1.80       1     False           0   \n",
       "4  False        1991      75    1.78       1     False           1   \n",
       "\n",
       "   casual drinker  social drinker  elegant  ...   casual  formal  informal  \\\n",
       "0               0               0        0  ...        0       0         1   \n",
       "1               0               0        0  ...        0       0         1   \n",
       "2               0               1        0  ...        0       0         1   \n",
       "3               0               1        0  ...        0       0         1   \n",
       "4               0               0        0  ...        0       0         1   \n",
       "\n",
       "   high  low  medium  familiar  quiet  closed  open  \n",
       "0     0    1       0         1      0       0     1  \n",
       "1     0    1       0         1      0       0     1  \n",
       "2     0    1       0         1      0       0     1  \n",
       "3     0    1       0         1      0       0     1  \n",
       "4     0    1       0         1      0       0     1  \n",
       "\n",
       "[5 rows x 50 columns]"
      ]
     },
     "execution_count": 7,
     "metadata": {},
     "output_type": "execute_result"
    }
   ],
   "source": [
    "finalTable = pd.read_pickle('user_restaurant_ratings_modeling')\n",
    "finalTable.head()"
   ]
  },
  {
   "cell_type": "markdown",
   "metadata": {},
   "source": [
    "## Machine Learning"
   ]
  },
  {
   "cell_type": "markdown",
   "metadata": {},
   "source": [
    "### Train/Test split"
   ]
  },
  {
   "cell_type": "code",
   "execution_count": 8,
   "metadata": {
    "collapsed": true
   },
   "outputs": [],
   "source": [
    "user_restaurant_ratings = pd.read_pickle('user_restaurant_ratings_modeling')\n",
    "X = user_restaurant_ratings.drop('rating', axis=1)\n",
    "y = user_restaurant_ratings.rating\n",
    "Xtrain, Xtest, ytrain, ytest = sk.cross_validation.train_test_split(X, y)"
   ]
  },
  {
   "cell_type": "markdown",
   "metadata": {},
   "source": [
    "### Logistic Regression"
   ]
  },
  {
   "cell_type": "markdown",
   "metadata": {},
   "source": [
    "Perform the following steps with the `sklearn.linear_model.LogisticRegression` classifier:\n",
    "\n",
    "1. Instantiate the model class\n",
    "2. Fit the model with the training data\n",
    "3. Use the model to make predictions about the test data"
   ]
  },
  {
   "cell_type": "code",
   "execution_count": 9,
   "metadata": {
    "collapsed": false
   },
   "outputs": [
    {
     "data": {
      "text/plain": [
       "0.55251141552511418"
      ]
     },
     "execution_count": 9,
     "metadata": {},
     "output_type": "execute_result"
    }
   ],
   "source": [
    "clf_logreg = LogisticRegression()\n",
    "clf_logreg.fit(Xtrain, ytrain)\n",
    "prediction_logreg = clf_logreg.predict(Xtest)\n",
    "clf_logreg.score(Xtest, ytest)"
   ]
  },
  {
   "cell_type": "code",
   "execution_count": 10,
   "metadata": {
    "collapsed": false
   },
   "outputs": [
    {
     "name": "stdout",
     "output_type": "stream",
     "text": [
      "[[18 23 17]\n",
      " [ 3 44 32]\n",
      " [ 1 22 59]]\n"
     ]
    },
    {
     "data": {
      "image/png": "[encoded data removed]",
      "text/plain": [
       "<matplotlib.figure.Figure at 0x7f1844e944a8>"
      ]
     },
     "metadata": {},
     "output_type": "display_data"
    }
   ],
   "source": [
    "print(confusion_matrix(ytest, prediction_logreg))\n",
    "sns.heatmap(confusion_matrix(ytest, prediction_logreg));"
   ]
  },
  {
   "cell_type": "markdown",
   "metadata": {},
   "source": [
    "### The Customer Satisfaction Prediction Tool\n",
    "\n",
    "Plug in a consumer profile and a restaurant profile to predict customer satisfaction! Consumer attributes are prefixed `u_`. Restaurant attributes are prefixed `r_`.\n",
    "\n",
    "Rating System:\n",
    "* 0 - poor\n",
    "* 1 - average\n",
    "* 2 - great"
   ]
  },
  {
   "cell_type": "code",
   "execution_count": 18,
   "metadata": {
    "collapsed": true
   },
   "outputs": [],
   "source": [
    "test = X.loc[0]\n",
    "def customer_satisfaction_prediction(u_height, u_weight, u_smoker=0, u_drink_level=0, \n",
    "                                     u_dress_preference=0, u_ambience=0, u_birth_year=0, \n",
    "                                     u_interest=0, u_personality=0, u_activity=0, \n",
    "                                     u_budget=0, r_alcohol=0,\n",
    "                                     r_smoking_area=0, r_dress_code=0, r_price=0, \n",
    "                                     r_ambience=0, r_franchise=0, r_area=0):\n",
    "    for i in test.keys():\n",
    "        test[i] = 0\n",
    "    test['height'] = u_height\n",
    "    test['weight'] = u_weight\n",
    "    test['smoker'] = u_smoker\n",
    "    test[u_drink_level] = 1\n",
    "    test[u_dress_preference] = 1\n",
    "    test[u_ambience] = 1\n",
    "    test['birth_year'] = u_birth_year\n",
    "    test[u_interest] = 1\n",
    "    test[u_personality] = 1\n",
    "    test[u_activity] = 1\n",
    "    test[u_budget] = 1\n",
    "    test[r_alcohol] = 1\n",
    "    test[r_smoking_area] = 1\n",
    "    test[r_dress_code] = 1\n",
    "    test[r_price] = 1\n",
    "    test[r_ambience] = 1\n",
    "    test['franchise'] = r_franchise\n",
    "    return 'Rating: ' + str(clf_logreg.predict(test.reshape(1,-1))[0])"
   ]
  },
  {
   "cell_type": "code",
   "execution_count": 19,
   "metadata": {
    "collapsed": false
   },
   "outputs": [
    {
     "data": {
      "text/plain": [
       "'Rating: 2'"
      ]
     },
     "metadata": {},
     "output_type": "display_data"
    }
   ],
   "source": [
    "interact(customer_satisfaction_prediction, \n",
    "         u_height=(0, 3, .1), u_weight=(0, 150, 1), u_smoker=True, \n",
    "         u_drink_level=['abstemious','social drinker','casual drinker'],\n",
    "         u_dress_preference=['informal','formal','no preference','elegant'],\n",
    "         u_ambience=['family','friends','solitary'],\n",
    "         u_birth_year=(1900, 2015, 1),\n",
    "         u_interest=['variety','technology','none','retro','eco-friendly'],\n",
    "         u_personality=['thrifty-protector','hunter-ostentatious','hard-worker','conformist'],\n",
    "         u_activity=['student','professional','unemployed','working-class'],\n",
    "         u_budget=['medium','low','high'],\n",
    "         r_alcohol=['No_Alcohol_Served','Wine_Beer','Full_Bar'],\n",
    "         r_smoking_area=['none','only_at_bar','permitted','section','not_permitted'],\n",
    "         r_dress_code=['informal','casual','formal'],\n",
    "         r_price=['medium','low','high'],\n",
    "         r_ambience=['familiar','quiet'],\n",
    "         r_franchise=True,\n",
    "         r_area=['open', 'closed'], __manual=True)"
   ]
  },
  {
   "cell_type": "markdown",
   "metadata": {},
   "source": [
    "## Sources"
   ]
  },
  {
   "cell_type": "markdown",
   "metadata": {},
   "source": [
    "1. Medellan, Rafael Ponce, and Juan Gabriel Gonzalez. \"Restaurant & Consumer Data Data Set.\" UCI Machine Learning Repository. N.p., n.d. Web. 3 Mar. 2016. <https://archive.ics.uci.edu/ml/datasets/Restaurant+%26+consumer+data>."
   ]
  }
 ],
 "metadata": {
  "kernelspec": {
   "display_name": "Python 3",
   "language": "python",
   "name": "python3"
  },
  "language_info": {
   "codemirror_mode": {
    "name": "ipython",
    "version": 3
   },
   "file_extension": ".py",
   "mimetype": "text/x-python",
   "name": "python",
   "nbconvert_exporter": "python",
   "pygments_lexer": "ipython3",
   "version": "3.4.3"
  }
 },
 "nbformat": 4,
 "nbformat_minor": 0
}
