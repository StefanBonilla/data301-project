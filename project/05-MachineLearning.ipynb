{
 "cells": [
  {
   "cell_type": "markdown",
   "metadata": {},
   "source": [
    "# Machine Learning"
   ]
  },
  {
   "cell_type": "markdown",
   "metadata": {},
   "source": [
    "## Imports"
   ]
  },
  {
   "cell_type": "code",
   "execution_count": 1,
   "metadata": {
    "collapsed": true
   },
   "outputs": [],
   "source": [
    "import numpy as np\n",
    "import pandas as pd\n",
    "%matplotlib inline\n",
    "import matplotlib.pyplot as plt\n",
    "from ipywidgets import interact, fixed\n",
    "import seaborn as sns\n",
    "import sklearn as sk\n",
    "import sklearn.naive_bayes as nb\n",
    "from sklearn.cross_validation import train_test_split\n",
    "from sklearn.metrics import confusion_matrix\n",
    "from sklearn.ensemble import RandomForestClassifier\n",
    "from sklearn.linear_model import LogisticRegression"
   ]
  },
  {
   "cell_type": "markdown",
   "metadata": {},
   "source": [
    "## Load and prepare the data\n",
    "\n",
    "Read the pickled `DataFrame` that shows consumer profiles, consumer cuisines, restaurant profiles, restaurant cuisines, and user ratings of restaurants"
   ]
  },
  {
   "cell_type": "code",
   "execution_count": 2,
   "metadata": {
    "collapsed": false
   },
   "outputs": [],
   "source": [
    "user_restaurant_ratings = pd.read_pickle('user_restaurant_ratings_modeling')"
   ]
  },
  {
   "cell_type": "markdown",
   "metadata": {},
   "source": [
    "Prepare your data for machine learning:\n",
    "\n",
    "* Create a `DataFrame` for your features named `X` with a subset of columns that you think will be useful in predicting restaurant ratings.\n",
    "* Create a `Series` for your target variable named `y` from the `rating` column."
   ]
  },
  {
   "cell_type": "code",
   "execution_count": 3,
   "metadata": {
    "collapsed": false
   },
   "outputs": [],
   "source": [
    "y = user_restaurant_ratings.rating\n",
    "X = user_restaurant_ratings.drop('rating', axis=1)"
   ]
  },
  {
   "cell_type": "markdown",
   "metadata": {},
   "source": [
    "## Train/test split"
   ]
  },
  {
   "cell_type": "markdown",
   "metadata": {},
   "source": [
    "Use `sklearn.cross_validation.train_test_split` to split your data into a training and test set. Save the resulting data in the variables:\n",
    "\n",
    "* `Xtrain`\n",
    "* `Xtest`\n",
    "* `ytrain`\n",
    "* `ytest`"
   ]
  },
  {
   "cell_type": "code",
   "execution_count": 4,
   "metadata": {
    "collapsed": true
   },
   "outputs": [],
   "source": [
    "Xtrain, Xtest, ytrain, ytest = sk.cross_validation.train_test_split(X, y)"
   ]
  },
  {
   "cell_type": "markdown",
   "metadata": {},
   "source": [
    "Here are the shapes of the resulting arrays"
   ]
  },
  {
   "cell_type": "code",
   "execution_count": 5,
   "metadata": {
    "collapsed": false
   },
   "outputs": [
    {
     "data": {
      "text/plain": [
       "((654, 49), (654,))"
      ]
     },
     "execution_count": 5,
     "metadata": {},
     "output_type": "execute_result"
    }
   ],
   "source": [
    "Xtrain.shape, ytrain.shape"
   ]
  },
  {
   "cell_type": "code",
   "execution_count": 6,
   "metadata": {
    "collapsed": false
   },
   "outputs": [
    {
     "data": {
      "text/plain": [
       "((219, 49), (219,))"
      ]
     },
     "execution_count": 6,
     "metadata": {},
     "output_type": "execute_result"
    }
   ],
   "source": [
    "Xtest.shape, ytest.shape"
   ]
  },
  {
   "cell_type": "code",
   "execution_count": null,
   "metadata": {
    "collapsed": false
   },
   "outputs": [],
   "source": []
  },
  {
   "cell_type": "markdown",
   "metadata": {},
   "source": [
    "## Gaussian Naive-Bayes classifier"
   ]
  },
  {
   "cell_type": "markdown",
   "metadata": {},
   "source": [
    "Perform the following steps with the `sklearn.naive_bayes.GaussianNB` classifier:\n",
    "\n",
    "1. Instantiate the model class\n",
    "2. Fit the model with the training data\n",
    "3. Use the model to make predictions about the test data"
   ]
  },
  {
   "cell_type": "code",
   "execution_count": 7,
   "metadata": {
    "collapsed": false
   },
   "outputs": [
    {
     "data": {
      "text/plain": [
       "0.38812785388127852"
      ]
     },
     "execution_count": 7,
     "metadata": {},
     "output_type": "execute_result"
    }
   ],
   "source": [
    "clf = nb.GaussianNB()\n",
    "clf.fit(Xtrain, ytrain)\n",
    "prediction = clf.predict(Xtest)\n",
    "clf.score(Xtest, ytest)"
   ]
  },
  {
   "cell_type": "markdown",
   "metadata": {},
   "source": [
    "Use `sklearn.metrics.confusion_matrix` and Seaborn's `heatmap` to display the confusion matrix for this model:"
   ]
  },
  {
   "cell_type": "code",
   "execution_count": 8,
   "metadata": {
    "collapsed": false
   },
   "outputs": [
    {
     "name": "stdout",
     "output_type": "stream",
     "text": [
      "[[21  8 15]\n",
      " [43 27 12]\n",
      " [42 14 37]]\n"
     ]
    },
    {
     "data": {
      "image/png": "[encoded data removed]",
      "text/plain": [
       "<matplotlib.figure.Figure at 0x7f8d56fad710>"
      ]
     },
     "metadata": {},
     "output_type": "display_data"
    }
   ],
   "source": [
    "print(confusion_matrix(ytest, prediction))\n",
    "sns.heatmap(confusion_matrix(ytest, prediction));"
   ]
  },
  {
   "cell_type": "markdown",
   "metadata": {},
   "source": [
    "## Random Forest Classifier"
   ]
  },
  {
   "cell_type": "markdown",
   "metadata": {},
   "source": [
    "Perform the following steps with the `sklearn.ensemble.RandomForestClassifier` classifier:\n",
    "\n",
    "1. Instantiate the model class\n",
    "2. Fit the model with the training data\n",
    "3. Use the model to make predictions about the test data"
   ]
  },
  {
   "cell_type": "code",
   "execution_count": 9,
   "metadata": {
    "collapsed": false
   },
   "outputs": [
    {
     "data": {
      "text/plain": [
       "0.57077625570776258"
      ]
     },
     "execution_count": 9,
     "metadata": {},
     "output_type": "execute_result"
    }
   ],
   "source": [
    "clf_rf = RandomForestClassifier()\n",
    "clf_rf.fit(Xtrain, ytrain)\n",
    "prediction_rf = clf_rf.predict(Xtest)\n",
    "clf_rf.score(Xtest, ytest)"
   ]
  },
  {
   "cell_type": "code",
   "execution_count": 10,
   "metadata": {
    "collapsed": false
   },
   "outputs": [
    {
     "name": "stdout",
     "output_type": "stream",
     "text": [
      "[[21 14  9]\n",
      " [ 6 49 27]\n",
      " [10 28 55]]\n"
     ]
    },
    {
     "data": {
      "image/png": "[encoded data removed]",
      "text/plain": [
       "<matplotlib.figure.Figure at 0x7f8d56af97f0>"
      ]
     },
     "metadata": {},
     "output_type": "display_data"
    }
   ],
   "source": [
    "print(confusion_matrix(ytest, prediction_rf))\n",
    "sns.heatmap(confusion_matrix(ytest, prediction_rf));"
   ]
  },
  {
   "cell_type": "code",
   "execution_count": 11,
   "metadata": {
    "collapsed": false
   },
   "outputs": [
    {
     "data": {
      "text/plain": [
       "array([ 0.01654859,  0.07640722,  0.09473844,  0.0792741 ,  0.02693718,\n",
       "        0.01471792,  0.02563681,  0.02593096,  0.00242308,  0.02264383,\n",
       "        0.01919765,  0.02346726,  0.02322645,  0.01484753,  0.0143323 ,\n",
       "        0.00984283,  0.00838491,  0.00489686,  0.01608861,  0.01609013,\n",
       "        0.00779512,  0.01543822,  0.01232176,  0.0176549 ,  0.00716461,\n",
       "        0.00683965,  0.00627215,  0.00476624,  0.00241839,  0.01956325,\n",
       "        0.01559618,  0.01420561,  0.03525845,  0.02968345,  0.04193011,\n",
       "        0.03195134,  0.00383681,  0.00930361,  0.02251608,  0.008876  ,\n",
       "        0.00155954,  0.01632208,  0.02120478,  0.03181657,  0.03137621,\n",
       "        0.01139458,  0.00658084,  0.01482105,  0.01589981])"
      ]
     },
     "execution_count": 11,
     "metadata": {},
     "output_type": "execute_result"
    }
   ],
   "source": [
    "clf_rf.feature_importances_"
   ]
  },
  {
   "cell_type": "markdown",
   "metadata": {},
   "source": [
    "## Logistic Regression"
   ]
  },
  {
   "cell_type": "markdown",
   "metadata": {},
   "source": [
    "Perform the following steps with the `sklearn.linear_model.LogisticRegression` classifier:\n",
    "\n",
    "1. Instantiate the model class\n",
    "2. Fit the model with the training data\n",
    "3. Use the model to make predictions about the test data"
   ]
  },
  {
   "cell_type": "code",
   "execution_count": 12,
   "metadata": {
    "collapsed": false
   },
   "outputs": [
    {
     "data": {
      "text/plain": [
       "0.48858447488584472"
      ]
     },
     "execution_count": 12,
     "metadata": {},
     "output_type": "execute_result"
    }
   ],
   "source": [
    "clf_logreg = LogisticRegression()\n",
    "clf_logreg.fit(Xtrain, ytrain)\n",
    "prediction_logreg = clf_logreg.predict(Xtest)\n",
    "clf_logreg.score(Xtest, ytest)"
   ]
  },
  {
   "cell_type": "code",
   "execution_count": 13,
   "metadata": {
    "collapsed": false,
    "scrolled": true
   },
   "outputs": [
    {
     "name": "stdout",
     "output_type": "stream",
     "text": [
      "[[ 8 15 21]\n",
      " [ 5 33 44]\n",
      " [ 1 26 66]]\n"
     ]
    },
    {
     "data": {
      "image/png": "[encoded data removed]",
      "text/plain": [
       "<matplotlib.figure.Figure at 0x7f8d56fad940>"
      ]
     },
     "metadata": {},
     "output_type": "display_data"
    }
   ],
   "source": [
    "print(confusion_matrix(ytest, prediction_logreg))\n",
    "sns.heatmap(confusion_matrix(ytest, prediction_logreg));"
   ]
  },
  {
   "cell_type": "markdown",
   "metadata": {
    "collapsed": true
   },
   "source": []
  },
  {
   "cell_type": "markdown",
   "metadata": {},
   "source": [
    "## The Customer Satisfaction Prediction Tool"
   ]
  },
  {
   "cell_type": "markdown",
   "metadata": {},
   "source": [
    "Plug in a consumer profile and a restaurant profile to predict customer satisfaction! Plug in a consumer profile and a restaurant profile to predict customer satisfaction! Consumer attributes are prefixed `u_`. Restaurant attributes are prefixed `r_`.\n",
    "\n",
    "Rating System:\n",
    "* 0 - poor\n",
    "* 1 - average\n",
    "* 2 - great"
   ]
  },
  {
   "cell_type": "code",
   "execution_count": 14,
   "metadata": {
    "collapsed": true
   },
   "outputs": [],
   "source": [
    "test = X.loc[0]\n",
    "def customer_satisfaction_prediction(u_height, u_weight, u_smoker=0, u_drink_level=0, \n",
    "                                     u_dress_preference=0, u_ambience=0, u_birth_year=0, \n",
    "                                     u_interest=0, u_personality=0, u_activity=0, \n",
    "                                     u_budget=0, r_alcohol=0,\n",
    "                                     r_smoking_area=0, r_dress_code=0, r_price=0, \n",
    "                                     r_ambience=0, r_franchise=0, r_area=0):\n",
    "    for i in test.keys():\n",
    "        test[i] = 0\n",
    "    test['height'] = u_height\n",
    "    test['weight'] = u_weight\n",
    "    test['smoker'] = u_smoker\n",
    "    test[u_drink_level] = 1\n",
    "    test[u_dress_preference] = 1\n",
    "    test[u_ambience] = 1\n",
    "    test['birth_year'] = u_birth_year\n",
    "    test[u_interest] = 1\n",
    "    test[u_personality] = 1\n",
    "    test[u_activity] = 1\n",
    "    test[u_budget] = 1\n",
    "    test[r_alcohol] = 1\n",
    "    test[r_smoking_area] = 1\n",
    "    test[r_dress_code] = 1\n",
    "    test[r_price] = 1\n",
    "    test[r_ambience] = 1\n",
    "    test['franchise'] = r_franchise\n",
    "    return 'Rating: ' + str(clf_logreg.predict(test.reshape(1,-1))[0])"
   ]
  },
  {
   "cell_type": "code",
   "execution_count": 15,
   "metadata": {
    "collapsed": false
   },
   "outputs": [
    {
     "data": {
      "text/plain": [
       "<function __main__.customer_satisfaction_prediction>"
      ]
     },
     "execution_count": 15,
     "metadata": {},
     "output_type": "execute_result"
    }
   ],
   "source": [
    "interact(customer_satisfaction_prediction, \n",
    "         u_height=(0, 3, .1), u_weight=(0, 150, 1), u_smoker=True, \n",
    "         u_drink_level=['abstemious','social drinker','casual drinker'],\n",
    "         u_dress_preference=['informal','formal','no preference','elegant'],\n",
    "         u_ambience=['family','friends','solitary'],\n",
    "         u_birth_year=(1900, 2015, 1),\n",
    "         u_interest=['variety','technology','none','retro','eco-friendly'],\n",
    "         u_personality=['thrifty-protector','hunter-ostentatious','hard-worker','conformist'],\n",
    "         u_activity=['student','professional','unemployed','working-class'],\n",
    "         u_budget=['medium','low','high'],\n",
    "         r_alcohol=['No_Alcohol_Served','Wine_Beer','Full_Bar'],\n",
    "         r_smoking_area=['none','only_at_bar','permitted','section','not_permitted'],\n",
    "         r_dress_code=['informal','casual','formal'],\n",
    "         r_price=['medium','low','high'],\n",
    "         r_ambience=['familiar','quiet'],\n",
    "         r_franchise=True,\n",
    "         r_area=['open', 'closed'], __manual=True)"
   ]
  }
 ],
 "metadata": {
  "kernelspec": {
   "display_name": "Python 3",
   "language": "python",
   "name": "python3"
  },
  "language_info": {
   "codemirror_mode": {
    "name": "ipython",
    "version": 3
   },
   "file_extension": ".py",
   "mimetype": "text/x-python",
   "name": "python",
   "nbconvert_exporter": "python",
   "pygments_lexer": "ipython3",
   "version": "3.4.3"
  }
 },
 "nbformat": 4,
 "nbformat_minor": 0
}
