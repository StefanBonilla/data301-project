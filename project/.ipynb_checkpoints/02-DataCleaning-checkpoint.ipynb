{
 "cells": [
  {
   "cell_type": "markdown",
   "metadata": {},
   "source": [
    "# Data Cleaning with the Restaurant & Consumer Dataset"
   ]
  },
  {
   "cell_type": "markdown",
   "metadata": {},
   "source": [
    "## Imports"
   ]
  },
  {
   "cell_type": "code",
   "execution_count": 1,
   "metadata": {
    "collapsed": true
   },
   "outputs": [],
   "source": [
    "import numpy as np\n",
    "import pandas as pd"
   ]
  },
  {
   "cell_type": "markdown",
   "metadata": {},
   "source": [
    "## Load and prepare the data"
   ]
  },
  {
   "cell_type": "markdown",
   "metadata": {},
   "source": [
    "There are multiple tables of data we will be using to build our customer satisfaction prediction tool\n",
    "- The user_profile table includes attributes of individual consumers\n",
    "- The user_cuisine table shows types of cuisines that are preferred by individual users\n",
    "- The restaurant_profile table includes attributes of individual restaurants\n",
    "- The restaurant_cuisine table shows types of cuisines individual restaurants are associated with\n",
    "- The ratings table shows user ratings of restaurants"
   ]
  },
  {
   "cell_type": "code",
   "execution_count": 2,
   "metadata": {
    "collapsed": false
   },
   "outputs": [],
   "source": [
    "user_profile = pd.read_csv('/data/StefanBonilla/userprofile.csv', encoding='unicode_escape')\n",
    "user_cuisine = pd.read_csv('/data/StefanBonilla/usercuisine.csv', encoding='unicode_escape')\n",
    "restaurant_profile = pd.read_csv('/data/StefanBonilla/geoplaces2.csv', encoding='unicode_escape')\n",
    "restaurant_cuisine = pd.read_csv('/data/StefanBonilla/chefmozcuisine.csv', encoding='unicode_escape')\n",
    "ratings = pd.read_csv('/data/StefanBonilla/rating_final.csv', encoding='unicode_escape')"
   ]
  },
  {
   "cell_type": "markdown",
   "metadata": {},
   "source": [
    "From these tables, drop the columns that aren't significant in determining customer satisfacton.\n",
    "- We can drop the fax, the_geom_meter, and url columns from the restaurant_profile table\n",
    "- We can drop transportation from the user_profile table\n",
    "- We can drop food_rating and service_rating from the ratings table since we are going off of overall rating\n",
    "- We will also be dropping address, city, state, zip, and country from restaurant_profiles since we already have longitude and latitiude"
   ]
  },
  {
   "cell_type": "code",
   "execution_count": 3,
   "metadata": {
    "collapsed": false
   },
   "outputs": [],
   "source": [
    "restaurant_profile.drop(['the_geom_meter', 'fax', 'url', 'address', 'city', 'state', 'zip', 'country'], axis=1, inplace=True)\n",
    "user_profile.drop('transport', axis=1, inplace=True)\n",
    "ratings.drop(['food_rating', 'service_rating'], axis=1, inplace=True)"
   ]
  },
  {
   "cell_type": "markdown",
   "metadata": {},
   "source": [
    "Replace the missing values in the tables with default values. Missing data currently is marked as '?'\n",
    "\n",
    "user_profile\n",
    "- smoker defaults to False\n",
    "- drink_level defaults to 'abstemious'\n",
    "- dress_preference defaults to 'no preference'\n",
    "- ambience defaults to 'solitary'\n",
    "- marital_status defaults to 'single'\n",
    "- hijos defaults to 'independent'\n",
    "- activity defaults to 'working-class'\n",
    "- budget defaults to 'medium'"
   ]
  },
  {
   "cell_type": "code",
   "execution_count": 4,
   "metadata": {
    "collapsed": false
   },
   "outputs": [],
   "source": [
    "user_profile.smoker.replace({'?': False}, inplace=True)\n",
    "user_profile.drink_level.replace({'?': 'abstemious'}, inplace=True)\n",
    "user_profile.dress_preference.replace({'?': 'no preference'}, inplace=True)\n",
    "user_profile.ambience.replace({'?': 'solitary'}, inplace=True)\n",
    "user_profile.marital_status.replace({'?': 'single'}, inplace=True)\n",
    "user_profile.hijos.replace({'?': 'independent'}, inplace=True)\n",
    "user_profile.activity.replace({'?': 'working-class'}, inplace=True)\n",
    "user_profile.budget.replace({'?': 'medium'}, inplace=True)"
   ]
  },
  {
   "cell_type": "markdown",
   "metadata": {},
   "source": [
    "We also need to make sure all of our boolean values are represented correcly in the tables"
   ]
  },
  {
   "cell_type": "code",
   "execution_count": 5,
   "metadata": {
    "collapsed": true
   },
   "outputs": [],
   "source": [
    "user_profile.smoker.replace({'true': True, 'false': False}, inplace=True)\n",
    "user_profile.smoker = user_profile.smoker.astype('bool')\n",
    "restaurant_profile.franchise.replace({'t': True, 'f': False}, inplace=True)\n",
    "restaurant_profile.franchise = restaurant_profile.franchise.astype('bool')"
   ]
  },
  {
   "cell_type": "markdown",
   "metadata": {},
   "source": [
    "## Write the data"
   ]
  },
  {
   "cell_type": "markdown",
   "metadata": {},
   "source": [
    "Now that our tables are cleaned up, we will now write the dataframes to files so we can access them in the next notebook."
   ]
  },
  {
   "cell_type": "code",
   "execution_count": 6,
   "metadata": {
    "collapsed": true
   },
   "outputs": [],
   "source": [
    "user_profile.to_pickle('user_profile')\n",
    "user_cuisine.to_pickle('user_cuisine')\n",
    "restaurant_profile.to_pickle('restaurant_profile')\n",
    "restaurant_cuisine.to_pickle('restaurant_cuisine')\n",
    "ratings.to_pickle('ratings')"
   ]
  }
 ],
 "metadata": {
  "kernelspec": {
   "display_name": "Python 3",
   "language": "python",
   "name": "python3"
  },
  "language_info": {
   "codemirror_mode": {
    "name": "ipython",
    "version": 3
   },
   "file_extension": ".py",
   "mimetype": "text/x-python",
   "name": "python",
   "nbconvert_exporter": "python",
   "pygments_lexer": "ipython3",
   "version": "3.4.3"
  }
 },
 "nbformat": 4,
 "nbformat_minor": 0
}
