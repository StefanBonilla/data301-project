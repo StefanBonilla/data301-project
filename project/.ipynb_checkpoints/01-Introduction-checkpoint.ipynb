{
 "cells": [
  {
   "cell_type": "markdown",
   "metadata": {},
   "source": [
    "# Introduction"
   ]
  },
  {
   "cell_type": "markdown",
   "metadata": {},
   "source": [
    "## Abstract"
   ]
  },
  {
   "cell_type": "markdown",
   "metadata": {},
   "source": [
    "Today, review sites such as Yelp and Google play a huge role in the restaurant industry. Consumers are constantly on their devices searching for the next place to eat while simultaneously reviewing the place they just ate at. What is it that makes a consumer satisfied by a restaurant experience? What can a restaurant do to improve their ratings given to them by their customers? This project will explore the reasons why consumers rate restaurants the way they do. In fact, this project will attempt to accurately predict what a consumer will rate a restaurant before they even eat there."
   ]
  },
  {
   "cell_type": "markdown",
   "metadata": {},
   "source": [
    "## The Dataset"
   ]
  },
  {
   "cell_type": "markdown",
   "metadata": {},
   "source": [
    "The dataset I have chosen to work with is a restaurant and consumer dataset provided by the UCI Machine Learning Repository, available at https://archive.ics.uci.edu/ml/datasets/Restaurant+%26+consumer+data. The tables in this dataset consist of consumer profiles, restaurant profiles, and consumer ratings of individual restaurants. The consumer and restaurant profiles are very detailed as they contain many features that define them."
   ]
  },
  {
   "cell_type": "markdown",
   "metadata": {},
   "source": [
    "The tables we will be using from this dataset are as follows:\n",
    "- The `userprofile` table includes attributes of individual consumers\n",
    "- The `usercuisine` table shows types of cuisines that are preferred by individual users\n",
    "- The `geoplaces2` table includes attributes of individual restaurants\n",
    "- The `chefmozcuisine` table shows types of cuisines individual restaurants are associated with\n",
    "- The `rating_final` table shows user ratings of restaurants"
   ]
  },
  {
   "cell_type": "markdown",
   "metadata": {},
   "source": [
    "## The Objective"
   ]
  },
  {
   "cell_type": "markdown",
   "metadata": {},
   "source": [
    "The goal of this project is to analyze the dataset via statistical modeling and machine learning to determine if the data from a consumer profile is sufficient enough to determine the consumer's rating of a specific restaurant. If a restaurant is able to know how much a consumer will like their restaurant before they even enter it, they will then know what they need to improve on to better their customer satisfaction."
   ]
  },
  {
   "cell_type": "markdown",
   "metadata": {},
   "source": [
    "The end result of this project will be a customer satisfaction prediction tool. This tool will take in attributes of a consumer as well as attributes of a restaurant and will output a prediction of how satisfied the customer will be after going to the restaurant."
   ]
  },
  {
   "cell_type": "code",
   "execution_count": null,
   "metadata": {
    "collapsed": true
   },
   "outputs": [],
   "source": []
  }
 ],
 "metadata": {
  "kernelspec": {
   "display_name": "Python 3",
   "language": "python",
   "name": "python3"
  },
  "language_info": {
   "codemirror_mode": {
    "name": "ipython",
    "version": 3
   },
   "file_extension": ".py",
   "mimetype": "text/x-python",
   "name": "python",
   "nbconvert_exporter": "python",
   "pygments_lexer": "ipython3",
   "version": "3.4.3"
  }
 },
 "nbformat": 4,
 "nbformat_minor": 0
}
