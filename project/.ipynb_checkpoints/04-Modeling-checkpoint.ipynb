{
 "cells": [
  {
   "cell_type": "markdown",
   "metadata": {},
   "source": [
    "# Modeling"
   ]
  },
  {
   "cell_type": "markdown",
   "metadata": {},
   "source": [
    "## Imports"
   ]
  },
  {
   "cell_type": "code",
   "execution_count": 1,
   "metadata": {
    "collapsed": true
   },
   "outputs": [],
   "source": [
    "import numpy as np\n",
    "import pandas as pd\n",
    "import sklearn as sk"
   ]
  },
  {
   "cell_type": "markdown",
   "metadata": {},
   "source": [
    "## Load the data\n",
    "\n",
    "Read the pickled `DataFrame` that shows consumer profiles, consumer cuisines, restaurant profiles, restaurant cuisines, and user ratings of restaurants"
   ]
  },
  {
   "cell_type": "code",
   "execution_count": 2,
   "metadata": {
    "collapsed": false
   },
   "outputs": [],
   "source": [
    "user_restaurant_ratings = pd.read_pickle('user_restaurant_ratings_exploration')"
   ]
  },
  {
   "cell_type": "markdown",
   "metadata": {},
   "source": [
    "## Prepare data for machine learning\n",
    "\n",
    "Add additional columns to your feature `DataFrame` for any categorical columns you think will be relevant. For each such column:\n",
    "\n",
    "* Use `pandas.get_dummies` to one-hot encode the categorical values.\n",
    "* Use `pandas.concat` with `axis=1` to add those columns to the feature `DataFrame`"
   ]
  },
  {
   "cell_type": "code",
   "execution_count": 3,
   "metadata": {
    "collapsed": false
   },
   "outputs": [],
   "source": [
    "categorical_cols = ['drink_level', \n",
    "                    'dress_preference', \n",
    "                    'ambience', \n",
    "                    'interest', \n",
    "                    'personality',\n",
    "                    'activity', \n",
    "                    'budget', \n",
    "                    'alcohol', \n",
    "                    'smoking_area', \n",
    "                    'dress_code',\n",
    "                    'price', \n",
    "                    'Rambience',\n",
    "                    'area'] \n",
    "                    #'religion', \n",
    "                    #'color', \n",
    "                    #'marital_status', \n",
    "                    #'hijos', \n",
    "                    #'accessibility']\n",
    "                    #'other_services']\n",
    "dfs = [user_restaurant_ratings]\n",
    "for col in categorical_cols:\n",
    "    dfs.append(pd.get_dummies(user_restaurant_ratings[col]))\n",
    "\n",
    "user_restaurant_ratings = pd.concat(dfs, axis=1)"
   ]
  },
  {
   "cell_type": "markdown",
   "metadata": {},
   "source": [
    "Now that the dummies are concatenated to the table, we can now drop the categorical columns"
   ]
  },
  {
   "cell_type": "code",
   "execution_count": 4,
   "metadata": {
    "collapsed": false
   },
   "outputs": [],
   "source": [
    "user_restaurant_ratings.drop(['drink_level', 'dress_preference', 'ambience', 'marital_status', 'hijos', 'interest',\n",
    "                              'personality', 'religion', 'activity', 'color', 'budget', 'alcohol',\n",
    "                              'smoking_area', 'dress_code', 'accessibility', 'price', 'Rambience', 'area','other_services'], \n",
    "                              axis=1, inplace=True)"
   ]
  },
  {
   "cell_type": "markdown",
   "metadata": {},
   "source": [
    "Drop columns that are not categorical and will not be needed for the project. We will not be needing location (lat, long) since we are assuming a customer can be satisfied or unsatisfied at any restaurant in the world."
   ]
  },
  {
   "cell_type": "code",
   "execution_count": 5,
   "metadata": {
    "collapsed": false
   },
   "outputs": [],
   "source": [
    "user_restaurant_ratings.drop(['userID', 'placeID', 'latitude_x', \n",
    "                              'longitude_x', 'longitude_y', 'latitude_y', \n",
    "                              'name'], axis=1, inplace=True)"
   ]
  },
  {
   "cell_type": "markdown",
   "metadata": {},
   "source": [
    "## Finding the most significant data\n",
    "\n",
    "At the moment, our merged table has too many columns. We can increase the accuracy of our recommendation system by dropping unnecessary columns."
   ]
  },
  {
   "cell_type": "code",
   "execution_count": 6,
   "metadata": {
    "collapsed": false
   },
   "outputs": [
    {
     "data": {
      "text/plain": [
       "['smoker',\n",
       " 'birth_year',\n",
       " 'weight',\n",
       " 'height',\n",
       " 'u_Afghan',\n",
       " 'u_African',\n",
       " 'u_American',\n",
       " 'u_Armenian',\n",
       " 'u_Asian',\n",
       " 'u_Australian',\n",
       " 'u_Austrian',\n",
       " 'u_Bagels',\n",
       " 'u_Bakery',\n",
       " 'u_Bar',\n",
       " 'u_Bar_Pub_Brewery',\n",
       " 'u_Barbecue',\n",
       " 'u_Basque',\n",
       " 'u_Brazilian',\n",
       " 'u_Breakfast-Brunch',\n",
       " 'u_British',\n",
       " 'u_Burgers',\n",
       " 'u_Burmese',\n",
       " 'u_Cafe-Coffee_Shop',\n",
       " 'u_Cafeteria',\n",
       " 'u_Cajun-Creole',\n",
       " 'u_California',\n",
       " 'u_Cambodian',\n",
       " 'u_Canadian',\n",
       " 'u_Caribbean',\n",
       " 'u_Chilean',\n",
       " 'u_Chinese',\n",
       " 'u_Contemporary',\n",
       " 'u_Continental-European',\n",
       " 'u_Cuban',\n",
       " 'u_Deli-Sandwiches',\n",
       " 'u_Dessert-Ice_Cream',\n",
       " 'u_Dim_Sum',\n",
       " 'u_Diner',\n",
       " 'u_Doughnuts',\n",
       " 'u_Dutch-Belgian',\n",
       " 'u_Eastern_European',\n",
       " 'u_Eclectic',\n",
       " 'u_Ethiopian',\n",
       " 'u_Family',\n",
       " 'u_Fast_Food',\n",
       " 'u_Filipino',\n",
       " 'u_Fine_Dining',\n",
       " 'u_French',\n",
       " 'u_Fusion',\n",
       " 'u_Game',\n",
       " 'u_German',\n",
       " 'u_Greek',\n",
       " 'u_Hawaiian',\n",
       " 'u_Hot_Dogs',\n",
       " 'u_Hungarian',\n",
       " 'u_Indian-Pakistani',\n",
       " 'u_Indigenous',\n",
       " 'u_Indonesian',\n",
       " 'u_International',\n",
       " 'u_Irish',\n",
       " 'u_Israeli',\n",
       " 'u_Italian',\n",
       " 'u_Jamaican',\n",
       " 'u_Japanese',\n",
       " 'u_Juice',\n",
       " 'u_Korean',\n",
       " 'u_Kosher',\n",
       " 'u_Latin_American',\n",
       " 'u_Lebanese',\n",
       " 'u_Malaysian',\n",
       " 'u_Mediterranean',\n",
       " 'u_Mexican',\n",
       " 'u_Middle_Eastern',\n",
       " 'u_Mongolian',\n",
       " 'u_Moroccan',\n",
       " 'u_North_African',\n",
       " 'u_Organic-Healthy',\n",
       " 'u_Pacific_Northwest',\n",
       " 'u_Pacific_Rim',\n",
       " 'u_Persian',\n",
       " 'u_Peruvian',\n",
       " 'u_Pizzeria',\n",
       " 'u_Polish',\n",
       " 'u_Polynesian',\n",
       " 'u_Portuguese',\n",
       " 'u_Regional',\n",
       " 'u_Romanian',\n",
       " 'u_Russian-Ukrainian',\n",
       " 'u_Scandinavian',\n",
       " 'u_Seafood',\n",
       " 'u_Soup',\n",
       " 'u_Southeast_Asian',\n",
       " 'u_Southern',\n",
       " 'u_Southwestern',\n",
       " 'u_Spanish',\n",
       " 'u_Steaks',\n",
       " 'u_Sushi',\n",
       " 'u_Swiss',\n",
       " 'u_Tapas',\n",
       " 'u_Tea_House',\n",
       " 'u_Tex-Mex',\n",
       " 'u_Thai',\n",
       " 'u_Tibetan',\n",
       " 'u_Tunisian',\n",
       " 'u_Turkish',\n",
       " 'u_Vegetarian',\n",
       " 'u_Vietnamese',\n",
       " 'rating',\n",
       " 'franchise',\n",
       " 'r_American',\n",
       " 'r_Armenian',\n",
       " 'r_Bakery',\n",
       " 'r_Bar',\n",
       " 'r_Bar_Pub_Brewery',\n",
       " 'r_Breakfast-Brunch',\n",
       " 'r_Burgers',\n",
       " 'r_Cafe-Coffee_Shop',\n",
       " 'r_Cafeteria',\n",
       " 'r_Chinese',\n",
       " 'r_Contemporary',\n",
       " 'r_Family',\n",
       " 'r_Fast_Food',\n",
       " 'r_Game',\n",
       " 'r_International',\n",
       " 'r_Italian',\n",
       " 'r_Japanese',\n",
       " 'r_Mediterranean',\n",
       " 'r_Mexican',\n",
       " 'r_Pizzeria',\n",
       " 'r_Regional',\n",
       " 'r_Seafood',\n",
       " 'r_Vietnamese',\n",
       " 'abstemious',\n",
       " 'casual drinker',\n",
       " 'social drinker',\n",
       " 'elegant',\n",
       " 'formal',\n",
       " 'informal',\n",
       " 'no preference',\n",
       " 'family',\n",
       " 'friends',\n",
       " 'solitary',\n",
       " 'eco-friendly',\n",
       " 'none',\n",
       " 'retro',\n",
       " 'technology',\n",
       " 'variety',\n",
       " 'conformist',\n",
       " 'hard-worker',\n",
       " 'hunter-ostentatious',\n",
       " 'thrifty-protector',\n",
       " 'professional',\n",
       " 'student',\n",
       " 'unemployed',\n",
       " 'working-class',\n",
       " 'high',\n",
       " 'low',\n",
       " 'medium',\n",
       " 'Full_Bar',\n",
       " 'No_Alcohol_Served',\n",
       " 'Wine-Beer',\n",
       " 'none',\n",
       " 'not permitted',\n",
       " 'only at bar',\n",
       " 'permitted',\n",
       " 'section',\n",
       " 'casual',\n",
       " 'formal',\n",
       " 'informal',\n",
       " 'high',\n",
       " 'low',\n",
       " 'medium',\n",
       " 'familiar',\n",
       " 'quiet',\n",
       " 'closed',\n",
       " 'open']"
      ]
     },
     "execution_count": 6,
     "metadata": {},
     "output_type": "execute_result"
    }
   ],
   "source": [
    "list(user_restaurant_ratings.columns)"
   ]
  },
  {
   "cell_type": "markdown",
   "metadata": {},
   "source": [
    "### Cuisines"
   ]
  },
  {
   "cell_type": "markdown",
   "metadata": {},
   "source": [
    "Cuisines that are served by restaurants are marked with the prefix '`r_`' and cuisines that are preferred by the consumers prefixed '`u_`'. As we can see by the list of columns, there are less cuisines offered at restaurants than are preferred by consumers."
   ]
  },
  {
   "cell_type": "code",
   "execution_count": 7,
   "metadata": {
    "collapsed": true
   },
   "outputs": [],
   "source": [
    "user_cuisine_cols = ['u_Afghan', 'u_African', 'u_American', 'u_Armenian', 'u_Asian', 'u_Australian', 'u_Austrian', 'u_Bagels', 'u_Bakery', 'u_Bar', 'u_Bar_Pub_Brewery', 'u_Barbecue', 'u_Basque', 'u_Brazilian', 'u_Breakfast-Brunch', 'u_British', 'u_Burgers', 'u_Burmese', 'u_Cafe-Coffee_Shop', 'u_Cafeteria', 'u_Cajun-Creole', 'u_California', 'u_Cambodian', 'u_Canadian', 'u_Caribbean', 'u_Chilean', 'u_Chinese', 'u_Contemporary', 'u_Continental-European', 'u_Cuban', 'u_Deli-Sandwiches', 'u_Dessert-Ice_Cream', 'u_Dim_Sum', 'u_Diner', 'u_Doughnuts', 'u_Dutch-Belgian', 'u_Eastern_European', 'u_Eclectic', 'u_Ethiopian', 'u_Family', 'u_Fast_Food', 'u_Filipino', 'u_Fine_Dining', 'u_French', 'u_Fusion', 'u_Game', 'u_German', 'u_Greek', 'u_Hawaiian', 'u_Hot_Dogs', 'u_Hungarian', 'u_Indian-Pakistani', 'u_Indigenous', 'u_Indonesian', 'u_International', 'u_Irish', 'u_Israeli', 'u_Italian', 'u_Jamaican', 'u_Japanese', 'u_Juice', 'u_Korean', 'u_Kosher', 'u_Latin_American', 'u_Lebanese', 'u_Malaysian', 'u_Mediterranean', 'u_Mexican', 'u_Middle_Eastern', 'u_Mongolian', 'u_Moroccan', 'u_North_African', 'u_Organic-Healthy', 'u_Pacific_Northwest', 'u_Pacific_Rim', 'u_Persian', 'u_Peruvian', 'u_Pizzeria', 'u_Polish', 'u_Polynesian', 'u_Portuguese', 'u_Regional', 'u_Romanian', 'u_Russian-Ukrainian', 'u_Scandinavian', 'u_Seafood', 'u_Soup', 'u_Southeast_Asian', 'u_Southern', 'u_Southwestern', 'u_Spanish', 'u_Steaks', 'u_Sushi', 'u_Swiss', 'u_Tapas', 'u_Tea_House', 'u_Tex-Mex', 'u_Thai', 'u_Tibetan', 'u_Tunisian', 'u_Turkish', 'u_Vegetarian', 'u_Vietnamese']"
   ]
  },
  {
   "cell_type": "code",
   "execution_count": 8,
   "metadata": {
    "collapsed": false
   },
   "outputs": [
    {
     "data": {
      "text/plain": [
       "103"
      ]
     },
     "execution_count": 8,
     "metadata": {},
     "output_type": "execute_result"
    }
   ],
   "source": [
    "len(user_cuisine_cols)"
   ]
  },
  {
   "cell_type": "code",
   "execution_count": 9,
   "metadata": {
    "collapsed": true
   },
   "outputs": [],
   "source": [
    "restaurant_cuisine_cols = ['r_American', 'r_Armenian', 'r_Bakery', 'r_Bar', 'r_Bar_Pub_Brewery', 'r_Breakfast-Brunch', 'r_Burgers', 'r_Cafe-Coffee_Shop', 'r_Cafeteria', 'r_Chinese', 'r_Contemporary', 'r_Family', 'r_Fast_Food', 'r_Game', 'r_International', 'r_Italian', 'r_Japanese', 'r_Mediterranean', 'r_Mexican', 'r_Pizzeria', 'r_Regional', 'r_Seafood', 'r_Vietnamese']"
   ]
  },
  {
   "cell_type": "code",
   "execution_count": 10,
   "metadata": {
    "collapsed": false
   },
   "outputs": [
    {
     "data": {
      "text/plain": [
       "23"
      ]
     },
     "execution_count": 10,
     "metadata": {},
     "output_type": "execute_result"
    }
   ],
   "source": [
    "len(restaurant_cuisine_cols)"
   ]
  },
  {
   "cell_type": "markdown",
   "metadata": {},
   "source": [
    "For the purpose of our restaurant recommendation system, we can drop the columns of the cuisines preferred by consumers that are not offered by any restaurants in our dataset."
   ]
  },
  {
   "cell_type": "code",
   "execution_count": 11,
   "metadata": {
    "collapsed": false
   },
   "outputs": [
    {
     "data": {
      "text/plain": [
       "80"
      ]
     },
     "execution_count": 11,
     "metadata": {},
     "output_type": "execute_result"
    }
   ],
   "source": [
    "user_cuisine_drops = []\n",
    "for cuisine in user_cuisine_cols:\n",
    "    if 'r_' + cuisine[2:] not in restaurant_cuisine_cols:\n",
    "        user_cuisine_drops.append('u_' + cuisine[2:])\n",
    "\n",
    "len(user_cuisine_drops)"
   ]
  },
  {
   "cell_type": "markdown",
   "metadata": {},
   "source": [
    "We will now drop these 80 unnecessary columns from our table"
   ]
  },
  {
   "cell_type": "code",
   "execution_count": 12,
   "metadata": {
    "collapsed": false
   },
   "outputs": [],
   "source": [
    "user_restaurant_ratings.drop(user_cuisine_drops, axis=1, inplace=True)"
   ]
  },
  {
   "cell_type": "code",
   "execution_count": 13,
   "metadata": {
    "collapsed": true
   },
   "outputs": [],
   "source": [
    "cuisine_cols = ['u_American', 'u_Armenian', 'u_Bakery', 'u_Bar', 'u_Bar_Pub_Brewery', 'u_Breakfast-Brunch', 'u_Burgers', 'u_Cafe-Coffee_Shop', 'u_Cafeteria', 'u_Chinese', 'u_Contemporary', 'u_Family', 'u_Fast_Food', 'u_Game', 'u_International', 'u_Italian', 'u_Japanese', 'u_Mediterranean', 'u_Mexican', 'u_Pizzeria', 'u_Regional', 'u_Seafood', 'u_Vietnamese', 'r_American', 'r_Armenian', 'r_Bakery', 'r_Bar', 'r_Bar_Pub_Brewery', 'r_Breakfast-Brunch', 'r_Burgers',\n",
    " 'r_Cafe-Coffee_Shop', 'r_Cafeteria', 'r_Chinese', 'r_Contemporary', 'r_Family', 'r_Fast_Food', 'r_Game', 'r_International', 'r_Italian', 'r_Japanese', 'r_Mediterranean', 'r_Mexican', 'r_Pizzeria', 'r_Regional', 'r_Seafood', 'r_Vietnamese']"
   ]
  },
  {
   "cell_type": "markdown",
   "metadata": {},
   "source": [
    "However, cuisinse preferences do not necessailty need to be taken into account to determine customer satisfaction. A customer can be satisfied by cuisines that aren't his favorite and can be unsatisfied by cuisines that are his favorite. Because of this, we will drop the cuisine data entirely from the table."
   ]
  },
  {
   "cell_type": "code",
   "execution_count": 14,
   "metadata": {
    "collapsed": false
   },
   "outputs": [],
   "source": [
    "user_restaurant_ratings.drop(cuisine_cols, axis=1, inplace=True)"
   ]
  },
  {
   "cell_type": "markdown",
   "metadata": {},
   "source": [
    "## Write the data\n",
    "\n",
    "Pickle the user_restaurant_ratings dataframe for use in the next notebook using pandas.dataframe.to_pickle"
   ]
  },
  {
   "cell_type": "code",
   "execution_count": 15,
   "metadata": {
    "collapsed": true
   },
   "outputs": [],
   "source": [
    "user_restaurant_ratings.to_pickle('user_restaurant_ratings_modeling')"
   ]
  }
 ],
 "metadata": {
  "kernelspec": {
   "display_name": "Python 3",
   "language": "python",
   "name": "python3"
  },
  "language_info": {
   "codemirror_mode": {
    "name": "ipython",
    "version": 3
   },
   "file_extension": ".py",
   "mimetype": "text/x-python",
   "name": "python",
   "nbconvert_exporter": "python",
   "pygments_lexer": "ipython3",
   "version": "3.4.3"
  }
 },
 "nbformat": 4,
 "nbformat_minor": 0
}
