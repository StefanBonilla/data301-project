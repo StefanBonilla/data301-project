{
 "cells": [
  {
   "cell_type": "markdown",
   "metadata": {},
   "source": [
    "# Machine Learning"
   ]
  },
  {
   "cell_type": "markdown",
   "metadata": {},
   "source": [
    "## Imports"
   ]
  },
  {
   "cell_type": "code",
   "execution_count": 1,
   "metadata": {
    "collapsed": true
   },
   "outputs": [],
   "source": [
    "import numpy as np\n",
    "import pandas as pd\n",
    "%matplotlib inline\n",
    "import matplotlib.pyplot as plt\n",
    "from ipywidgets import interact, fixed\n",
    "import seaborn as sns\n",
    "import sklearn as sk\n",
    "import sklearn.naive_bayes as nb\n",
    "from sklearn.cross_validation import train_test_split\n",
    "from sklearn.metrics import confusion_matrix\n",
    "from sklearn.ensemble import RandomForestClassifier\n",
    "from sklearn.linear_model import LogisticRegression"
   ]
  },
  {
   "cell_type": "markdown",
   "metadata": {},
   "source": [
    "## Load and prepare the data\n",
    "\n",
    "Read the pickled `DataFrame` that shows consumer profiles, consumer cuisines, restaurant profiles, restaurant cuisines, and user ratings of restaurants"
   ]
  },
  {
   "cell_type": "code",
   "execution_count": 2,
   "metadata": {
    "collapsed": false
   },
   "outputs": [],
   "source": [
    "user_restaurant_ratings = pd.read_pickle('user_restaurant_ratings_modeling')"
   ]
  },
  {
   "cell_type": "markdown",
   "metadata": {},
   "source": [
    "Prepare your data for machine learning:\n",
    "\n",
    "* Create a `DataFrame` for your features named `X` with a subset of columns that you think will be useful in predicting restaurant ratings.\n",
    "* Create a `Series` for your target variable named `y` from the `rating` column."
   ]
  },
  {
   "cell_type": "code",
   "execution_count": 3,
   "metadata": {
    "collapsed": false
   },
   "outputs": [],
   "source": [
    "y = user_restaurant_ratings.rating\n",
    "X = user_restaurant_ratings.drop('rating', axis=1)"
   ]
  },
  {
   "cell_type": "markdown",
   "metadata": {},
   "source": [
    "## Train/test split"
   ]
  },
  {
   "cell_type": "markdown",
   "metadata": {},
   "source": [
    "Use `sklearn.cross_validation.train_test_split` to split your data into a training and test set. Save the resulting data in the variables:\n",
    "\n",
    "* `Xtrain`\n",
    "* `Xtest`\n",
    "* `ytrain`\n",
    "* `ytest`"
   ]
  },
  {
   "cell_type": "code",
   "execution_count": 4,
   "metadata": {
    "collapsed": true
   },
   "outputs": [],
   "source": [
    "Xtrain, Xtest, ytrain, ytest = sk.cross_validation.train_test_split(X, y)"
   ]
  },
  {
   "cell_type": "markdown",
   "metadata": {},
   "source": [
    "Here are the shapes of the resulting arrays"
   ]
  },
  {
   "cell_type": "code",
   "execution_count": 5,
   "metadata": {
    "collapsed": false
   },
   "outputs": [
    {
     "data": {
      "text/plain": [
       "((654, 49), (654,))"
      ]
     },
     "execution_count": 5,
     "metadata": {},
     "output_type": "execute_result"
    }
   ],
   "source": [
    "Xtrain.shape, ytrain.shape"
   ]
  },
  {
   "cell_type": "code",
   "execution_count": 6,
   "metadata": {
    "collapsed": false
   },
   "outputs": [
    {
     "data": {
      "text/plain": [
       "((219, 49), (219,))"
      ]
     },
     "execution_count": 6,
     "metadata": {},
     "output_type": "execute_result"
    }
   ],
   "source": [
    "Xtest.shape, ytest.shape"
   ]
  },
  {
   "cell_type": "code",
   "execution_count": null,
   "metadata": {
    "collapsed": false
   },
   "outputs": [],
   "source": []
  },
  {
   "cell_type": "markdown",
   "metadata": {},
   "source": [
    "## Gaussian Naive-Bayes classifier"
   ]
  },
  {
   "cell_type": "markdown",
   "metadata": {},
   "source": [
    "Perform the following steps with the `sklearn.naive_bayes.GaussianNB` classifier:\n",
    "\n",
    "1. Instantiate the model class\n",
    "2. Fit the model with the training data\n",
    "3. Use the model to make predictions about the test data"
   ]
  },
  {
   "cell_type": "code",
   "execution_count": 7,
   "metadata": {
    "collapsed": false
   },
   "outputs": [
    {
     "data": {
      "text/plain": [
       "0.43835616438356162"
      ]
     },
     "execution_count": 7,
     "metadata": {},
     "output_type": "execute_result"
    }
   ],
   "source": [
    "clf = nb.GaussianNB()\n",
    "clf.fit(Xtrain, ytrain)\n",
    "prediction = clf.predict(Xtest)\n",
    "clf.score(Xtest, ytest)"
   ]
  },
  {
   "cell_type": "markdown",
   "metadata": {},
   "source": [
    "Use `sklearn.metrics.confusion_matrix` and Seaborn's `heatmap` to display the confusion matrix for this model:"
   ]
  },
  {
   "cell_type": "code",
   "execution_count": 8,
   "metadata": {
    "collapsed": false
   },
   "outputs": [
    {
     "name": "stdout",
     "output_type": "stream",
     "text": [
      "[[36  9  9]\n",
      " [30 30 14]\n",
      " [36 25 30]]\n"
     ]
    },
    {
     "data": {
      "image/png": "[encoded data removed]",
      "text/plain": [
       "<matplotlib.figure.Figure at 0x7f53dd573cf8>"
      ]
     },
     "metadata": {},
     "output_type": "display_data"
    }
   ],
   "source": [
    "print(confusion_matrix(ytest, prediction))\n",
    "sns.heatmap(confusion_matrix(ytest, prediction));"
   ]
  },
  {
   "cell_type": "markdown",
   "metadata": {},
   "source": [
    "## Random Forest Classifier"
   ]
  },
  {
   "cell_type": "markdown",
   "metadata": {},
   "source": [
    "Perform the following steps with the `sklearn.ensemble.RandomForestClassifier` classifier:\n",
    "\n",
    "1. Instantiate the model class\n",
    "2. Fit the model with the training data\n",
    "3. Use the model to make predictions about the test data"
   ]
  },
  {
   "cell_type": "code",
   "execution_count": 9,
   "metadata": {
    "collapsed": false
   },
   "outputs": [
    {
     "data": {
      "text/plain": [
       "0.52968036529680362"
      ]
     },
     "execution_count": 9,
     "metadata": {},
     "output_type": "execute_result"
    }
   ],
   "source": [
    "clf_rf = RandomForestClassifier()\n",
    "clf_rf.fit(Xtrain, ytrain)\n",
    "prediction_rf = clf_rf.predict(Xtest)\n",
    "clf_rf.score(Xtest, ytest)"
   ]
  },
  {
   "cell_type": "code",
   "execution_count": 10,
   "metadata": {
    "collapsed": false
   },
   "outputs": [
    {
     "name": "stdout",
     "output_type": "stream",
     "text": [
      "[[24 19 11]\n",
      " [ 7 42 25]\n",
      " [11 30 50]]\n"
     ]
    },
    {
     "data": {
      "image/png": "[encoded data removed]",
      "text/plain": [
       "<matplotlib.figure.Figure at 0x7f53dd03a278>"
      ]
     },
     "metadata": {},
     "output_type": "display_data"
    }
   ],
   "source": [
    "print(confusion_matrix(ytest, prediction_rf))\n",
    "sns.heatmap(confusion_matrix(ytest, prediction_rf));"
   ]
  },
  {
   "cell_type": "code",
   "execution_count": 11,
   "metadata": {
    "collapsed": false
   },
   "outputs": [
    {
     "data": {
      "text/plain": [
       "array([ 0.01201233,  0.0683103 ,  0.09318134,  0.09304453,  0.03489556,\n",
       "        0.01532853,  0.01905209,  0.01742813,  0.0046212 ,  0.01991986,\n",
       "        0.01720798,  0.01814305,  0.01927632,  0.01457582,  0.01291095,\n",
       "        0.01781422,  0.0134512 ,  0.00673167,  0.01518329,  0.0217783 ,\n",
       "        0.01337365,  0.01662916,  0.01238431,  0.01781736,  0.00948007,\n",
       "        0.00739105,  0.0043858 ,  0.00396842,  0.0031476 ,  0.02567592,\n",
       "        0.01516852,  0.01199073,  0.03507522,  0.03056964,  0.03273399,\n",
       "        0.02783745,  0.00401553,  0.00878233,  0.02280022,  0.01208944,\n",
       "        0.00233059,  0.01827822,  0.0246245 ,  0.02824448,  0.03074545,\n",
       "        0.01033642,  0.0080523 ,  0.01126215,  0.0159428 ])"
      ]
     },
     "execution_count": 11,
     "metadata": {},
     "output_type": "execute_result"
    }
   ],
   "source": [
    "clf_rf.feature_importances_"
   ]
  },
  {
   "cell_type": "markdown",
   "metadata": {},
   "source": [
    "## Logistic Regression"
   ]
  },
  {
   "cell_type": "markdown",
   "metadata": {},
   "source": [
    "Perform the following steps with the `sklearn.linear_model.LogisticRegression` classifier:\n",
    "\n",
    "1. Instantiate the model class\n",
    "2. Fit the model with the training data\n",
    "3. Use the model to make predictions about the test data"
   ]
  },
  {
   "cell_type": "code",
   "execution_count": 12,
   "metadata": {
    "collapsed": false
   },
   "outputs": [
    {
     "data": {
      "text/plain": [
       "0.51141552511415522"
      ]
     },
     "execution_count": 12,
     "metadata": {},
     "output_type": "execute_result"
    }
   ],
   "source": [
    "clf_logreg = LogisticRegression()\n",
    "clf_logreg.fit(Xtrain, ytrain)\n",
    "prediction_logreg = clf_logreg.predict(Xtest)\n",
    "clf_logreg.score(Xtest, ytest)"
   ]
  },
  {
   "cell_type": "code",
   "execution_count": 13,
   "metadata": {
    "collapsed": false,
    "scrolled": true
   },
   "outputs": [
    {
     "name": "stdout",
     "output_type": "stream",
     "text": [
      "[[13 22 19]\n",
      " [ 5 38 31]\n",
      " [ 4 26 61]]\n"
     ]
    },
    {
     "data": {
      "image/png": "[encoded data removed]",
      "text/plain": [
       "<matplotlib.figure.Figure at 0x7f53dd05ceb8>"
      ]
     },
     "metadata": {},
     "output_type": "display_data"
    }
   ],
   "source": [
    "print(confusion_matrix(ytest, prediction_logreg))\n",
    "sns.heatmap(confusion_matrix(ytest, prediction_logreg));"
   ]
  },
  {
   "cell_type": "markdown",
   "metadata": {
    "collapsed": true
   },
   "source": []
  },
  {
   "cell_type": "markdown",
   "metadata": {},
   "source": [
    "## The Customer Satisfaction Prediction Tool"
   ]
  },
  {
   "cell_type": "markdown",
   "metadata": {},
   "source": [
    "Plug in a consumer profile and a restaurant profile to predict customer satisfaction!\n",
    "\n",
    "Rating System:\n",
    "* 0 - poor\n",
    "* 1 - average\n",
    "* 2 - great"
   ]
  },
  {
   "cell_type": "code",
   "execution_count": 14,
   "metadata": {
    "collapsed": true
   },
   "outputs": [],
   "source": [
    "test = X.loc[0]\n",
    "def customer_satisfaction_prediction(u_height, u_weight, u_smoker=0, u_drink_level=0, \n",
    "                                     u_dress_preference=0, u_ambience=0, u_birth_year=0, \n",
    "                                     u_interest=0, u_personality=0, u_activity=0, \n",
    "                                     u_budget=0, r_alcohol=0,\n",
    "                                     r_smoking_area=0, r_dress_code=0, r_price=0, \n",
    "                                     r_ambience=0, r_franchise=0, r_area=0):\n",
    "    for i in test.keys():\n",
    "        test[i] = 0\n",
    "    test['height'] = u_height\n",
    "    test['weight'] = u_weight\n",
    "    test['smoker'] = u_smoker\n",
    "    test[u_drink_level] = 1\n",
    "    test[u_dress_preference] = 1\n",
    "    test[u_ambience] = 1\n",
    "    test['birth_year'] = u_birth_year\n",
    "    test[u_interest] = 1\n",
    "    test[u_personality] = 1\n",
    "    test[u_activity] = 1\n",
    "    test[u_budget] = 1\n",
    "    test[r_alcohol] = 1\n",
    "    test[r_smoking_area] = 1\n",
    "    test[r_dress_code] = 1\n",
    "    test[r_price] = 1\n",
    "    test[r_ambience] = 1\n",
    "    test['franchise'] = r_franchise\n",
    "    return 'Rating: ' + str(clf_logreg.predict(test.reshape(1,-1))[0])"
   ]
  },
  {
   "cell_type": "code",
   "execution_count": 15,
   "metadata": {
    "collapsed": false
   },
   "outputs": [
    {
     "data": {
      "text/plain": [
       "<function __main__.customer_satisfaction_prediction>"
      ]
     },
     "execution_count": 15,
     "metadata": {},
     "output_type": "execute_result"
    }
   ],
   "source": [
    "interact(customer_satisfaction_prediction, \n",
    "         u_height=(0, 3, .1), u_weight=(0, 150, 1), u_smoker=True, \n",
    "         u_drink_level=['abstemious','social drinker','casual drinker'],\n",
    "         u_dress_preference=['informal','formal','no preference','elegant'],\n",
    "         u_ambience=['family','friends','solitary'],\n",
    "         u_birth_year=(1900, 2015, 1),\n",
    "         u_interest=['variety','technology','none','retro','eco-friendly'],\n",
    "         u_personality=['thrifty-protector','hunter-ostentatious','hard-worker','conformist'],\n",
    "         u_activity=['student','professional','unemployed','working-class'],\n",
    "         u_budget=['medium','low','high'],\n",
    "         r_alcohol=['No_Alcohol_Served','Wine_Beer','Full_Bar'],\n",
    "         r_smoking_area=['none','only_at_bar','permitted','section','not_permitted'],\n",
    "         r_dress_code=['informal','casual','formal'],\n",
    "         r_price=['medium','low','high'],\n",
    "         r_ambience=['familiar','quiet'],\n",
    "         r_franchise=True,\n",
    "         r_area=['open', 'closed'], __manual=True)"
   ]
  }
 ],
 "metadata": {
  "kernelspec": {
   "display_name": "Python 3",
   "language": "python",
   "name": "python3"
  },
  "language_info": {
   "codemirror_mode": {
    "name": "ipython",
    "version": 3
   },
   "file_extension": ".py",
   "mimetype": "text/x-python",
   "name": "python",
   "nbconvert_exporter": "python",
   "pygments_lexer": "ipython3",
   "version": "3.4.3"
  }
 },
 "nbformat": 4,
 "nbformat_minor": 0
}
